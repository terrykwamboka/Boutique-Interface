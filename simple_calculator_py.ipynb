{
  "nbformat": 4,
  "nbformat_minor": 0,
  "metadata": {
    "colab": {
      "provenance": [],
      "authorship_tag": "ABX9TyNs8zLrdyCzEa+pnEk1F5HV",
      "include_colab_link": true
    },
    "kernelspec": {
      "name": "python3",
      "display_name": "Python 3"
    },
    "language_info": {
      "name": "python"
    }
  },
  "cells": [
    {
      "cell_type": "markdown",
      "metadata": {
        "id": "view-in-github",
        "colab_type": "text"
      },
      "source": [
        "<a href=\"https://colab.research.google.com/github/terrykwamboka/Boutique-Interface/blob/main/simple_calculator_py.ipynb\" target=\"_parent\"><img src=\"https://colab.research.google.com/assets/colab-badge.svg\" alt=\"Open In Colab\"/></a>"
      ]
    },
    {
      "cell_type": "code",
      "execution_count": null,
      "metadata": {
        "id": "Mk13yekh6geJ"
      },
      "outputs": [],
      "source": [
        "def calculator():\n",
        "    # Get user input\n",
        "    num1 = float(input(\"Enter the first number: \"))\n",
        "    num2 = float(input(\"Enter the second number: \"))\n",
        "    operation = input(\"Enter the operation (+, -, *, /): \").strip()\n",
        "\n",
        "    # Perform the calculation\n",
        "    if operation == '+':\n",
        "        result = num1 + num2\n",
        "    elif operation == '-':\n",
        "        result = num1 - num2\n",
        "    elif operation == '*':\n",
        "        result = num1 * num2\n",
        "    elif operation == '/':\n",
        "        if num2 == 0:\n",
        "            print(\"Error: Division by zero is not allowed!\")\n",
        "            return\n",
        "        result = num1 / num2\n",
        "    else:\n",
        "        print(\"Error: Invalid operation! Please use +, -, *, or /\")\n",
        "        return\n",
        "\n",
        "    # Display the result\n",
        "    print(f\"{num1} {operation} {num2} = {result}\")\n",
        "\n",
        "# Run the calculator\n",
        "calculator()"
      ]
    }
  ]
}